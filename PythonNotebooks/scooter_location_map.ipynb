{
 "cells": [
  {
   "cell_type": "code",
   "execution_count": 1,
   "metadata": {},
   "outputs": [],
   "source": [
    "import gmaps\n",
    "import pandas as pd\n",
    "\n",
    "# Google developer API key\n",
    "from config import gkey\n",
    "\n",
    "# Configure gmaps\n",
    "gmaps.configure(api_key=gkey)"
   ]
  },
  {
   "cell_type": "code",
   "execution_count": 2,
   "metadata": {},
   "outputs": [
    {
     "data": {
      "text/html": [
       "<div>\n",
       "<style scoped>\n",
       "    .dataframe tbody tr th:only-of-type {\n",
       "        vertical-align: middle;\n",
       "    }\n",
       "\n",
       "    .dataframe tbody tr th {\n",
       "        vertical-align: top;\n",
       "    }\n",
       "\n",
       "    .dataframe thead th {\n",
       "        text-align: right;\n",
       "    }\n",
       "</style>\n",
       "<table border=\"1\" class=\"dataframe\">\n",
       "  <thead>\n",
       "    <tr style=\"text-align: right;\">\n",
       "      <th></th>\n",
       "      <th>Address</th>\n",
       "      <th>Lat</th>\n",
       "      <th>Long</th>\n",
       "    </tr>\n",
       "  </thead>\n",
       "  <tbody>\n",
       "    <tr>\n",
       "      <th>0</th>\n",
       "      <td>24TH ST W DUPONT AVE S Minneapolis</td>\n",
       "      <td>44.959130</td>\n",
       "      <td>-93.293113</td>\n",
       "    </tr>\n",
       "    <tr>\n",
       "      <th>1</th>\n",
       "      <td>10TH ST S 2ND AVE S Minneapolis</td>\n",
       "      <td>44.972818</td>\n",
       "      <td>-93.271973</td>\n",
       "    </tr>\n",
       "    <tr>\n",
       "      <th>2</th>\n",
       "      <td>7TH ST S MARQUETTE AVE Minneapolis</td>\n",
       "      <td>44.976320</td>\n",
       "      <td>-93.270883</td>\n",
       "    </tr>\n",
       "    <tr>\n",
       "      <th>3</th>\n",
       "      <td>6TH ST S 2ND AVE S Minneapolis</td>\n",
       "      <td>44.976720</td>\n",
       "      <td>-93.268733</td>\n",
       "    </tr>\n",
       "    <tr>\n",
       "      <th>4</th>\n",
       "      <td>1ST AVE N 1ST ST N Minneapolis</td>\n",
       "      <td>44.986981</td>\n",
       "      <td>-93.271269</td>\n",
       "    </tr>\n",
       "  </tbody>\n",
       "</table>\n",
       "</div>"
      ],
      "text/plain": [
       "                              Address        Lat       Long\n",
       "0  24TH ST W DUPONT AVE S Minneapolis  44.959130 -93.293113\n",
       "1     10TH ST S 2ND AVE S Minneapolis  44.972818 -93.271973\n",
       "2  7TH ST S MARQUETTE AVE Minneapolis  44.976320 -93.270883\n",
       "3      6TH ST S 2ND AVE S Minneapolis  44.976720 -93.268733\n",
       "4      1ST AVE N 1ST ST N Minneapolis  44.986981 -93.271269"
      ]
     },
     "execution_count": 2,
     "metadata": {},
     "output_type": "execute_result"
    }
   ],
   "source": [
    "# Create scooter dataframe\n",
    "scooter_df = pd.read_csv('Downloads/scooter_address_lat_long.csv')\n",
    "scooter_df.dropna()\n",
    "scooter_df.head()"
   ]
  },
  {
   "cell_type": "code",
   "execution_count": 3,
   "metadata": {},
   "outputs": [],
   "source": [
    "# Store Lat and Long in locations\n",
    "locations = scooter_df[[\"Lat\", \"Long\"]].astype(float)"
   ]
  },
  {
   "cell_type": "code",
   "execution_count": 4,
   "metadata": {},
   "outputs": [],
   "source": [
    "# Create bank symbol layer\n",
    "location_layer = gmaps.symbol_layer(locations, fill_color=\"blue\",\n",
    "                                stroke_color=\"blue\", scale=2)"
   ]
  },
  {
   "cell_type": "code",
   "execution_count": 5,
   "metadata": {},
   "outputs": [
    {
     "data": {
      "application/vnd.jupyter.widget-view+json": {
       "model_id": "7af36ea7c526401d8efe03f3a89d4517",
       "version_major": 2,
       "version_minor": 0
      },
      "text/plain": [
       "Figure(layout=FigureLayout(height='420px'))"
      ]
     },
     "metadata": {},
     "output_type": "display_data"
    }
   ],
   "source": [
    "# Plot Map\n",
    "fig = gmaps.figure()\n",
    "fig.add_layer(location_layer)\n",
    "\n",
    "fig"
   ]
  },
  {
   "cell_type": "code",
   "execution_count": null,
   "metadata": {},
   "outputs": [],
   "source": []
  }
 ],
 "metadata": {
  "kernelspec": {
   "display_name": "Python 3",
   "language": "python",
   "name": "python3"
  },
  "language_info": {
   "codemirror_mode": {
    "name": "ipython",
    "version": 3
   },
   "file_extension": ".py",
   "mimetype": "text/x-python",
   "name": "python",
   "nbconvert_exporter": "python",
   "pygments_lexer": "ipython3",
   "version": "3.7.3"
  }
 },
 "nbformat": 4,
 "nbformat_minor": 2
}
