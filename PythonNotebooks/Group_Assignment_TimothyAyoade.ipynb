{
 "cells": [
  {
   "cell_type": "code",
   "execution_count": 234,
   "metadata": {},
   "outputs": [],
   "source": [
    "# Dependencies\n",
    "import csv\n",
    "import numpy as np\n",
    "import matplotlib.pyplot as plt\n",
    "import requests\n",
    "import seaborn as sns\n",
    "import pandas as pd"
   ]
  },
  {
   "cell_type": "code",
   "execution_count": 235,
   "metadata": {
    "scrolled": true
   },
   "outputs": [
    {
     "data": {
      "text/html": [
       "<div>\n",
       "<style scoped>\n",
       "    .dataframe tbody tr th:only-of-type {\n",
       "        vertical-align: middle;\n",
       "    }\n",
       "\n",
       "    .dataframe tbody tr th {\n",
       "        vertical-align: top;\n",
       "    }\n",
       "\n",
       "    .dataframe thead th {\n",
       "        text-align: right;\n",
       "    }\n",
       "</style>\n",
       "<table border=\"1\" class=\"dataframe\">\n",
       "  <thead>\n",
       "    <tr style=\"text-align: right;\">\n",
       "      <th></th>\n",
       "      <th>OBJECTID</th>\n",
       "      <th>neighborhood</th>\n",
       "      <th>ucrDescription</th>\n",
       "      <th>number</th>\n",
       "      <th>reportMonth</th>\n",
       "      <th>reportYear</th>\n",
       "    </tr>\n",
       "  </thead>\n",
       "  <tbody>\n",
       "    <tr>\n",
       "      <th>0</th>\n",
       "      <td>1</td>\n",
       "      <td>** NOT ASSIGNED **</td>\n",
       "      <td>Aggravated Assault</td>\n",
       "      <td>2.0</td>\n",
       "      <td>8</td>\n",
       "      <td>2017</td>\n",
       "    </tr>\n",
       "    <tr>\n",
       "      <th>1</th>\n",
       "      <td>2</td>\n",
       "      <td>** NOT ASSIGNED **</td>\n",
       "      <td>Arson</td>\n",
       "      <td>0.0</td>\n",
       "      <td>8</td>\n",
       "      <td>2017</td>\n",
       "    </tr>\n",
       "  </tbody>\n",
       "</table>\n",
       "</div>"
      ],
      "text/plain": [
       "   OBJECTID        neighborhood      ucrDescription  number  reportMonth  \\\n",
       "0         1  ** NOT ASSIGNED **  Aggravated Assault     2.0            8   \n",
       "1         2  ** NOT ASSIGNED **               Arson     0.0            8   \n",
       "\n",
       "   reportYear  \n",
       "0        2017  \n",
       "1        2017  "
      ]
     },
     "execution_count": 235,
     "metadata": {},
     "output_type": "execute_result"
    }
   ],
   "source": [
    "#import file as CSV\n",
    "MSP = \"Resources/NEIGHBORHOOD_CRIME_STATS.csv\"\n",
    "# Read the CSV into a Pandas DataFrame\n",
    "MSP_Crimedf = pd.read_csv(MSP)\n",
    "MSP_Crimedf.head (2)\n"
   ]
  },
  {
   "cell_type": "code",
   "execution_count": 236,
   "metadata": {},
   "outputs": [
    {
     "data": {
      "text/html": [
       "<div>\n",
       "<style scoped>\n",
       "    .dataframe tbody tr th:only-of-type {\n",
       "        vertical-align: middle;\n",
       "    }\n",
       "\n",
       "    .dataframe tbody tr th {\n",
       "        vertical-align: top;\n",
       "    }\n",
       "\n",
       "    .dataframe thead th {\n",
       "        text-align: right;\n",
       "    }\n",
       "</style>\n",
       "<table border=\"1\" class=\"dataframe\">\n",
       "  <thead>\n",
       "    <tr style=\"text-align: right;\">\n",
       "      <th></th>\n",
       "      <th>OBJECTID</th>\n",
       "      <th>neighborhood</th>\n",
       "      <th>ucrDescription</th>\n",
       "      <th>number</th>\n",
       "      <th>reportMonth</th>\n",
       "      <th>reportYear</th>\n",
       "    </tr>\n",
       "  </thead>\n",
       "  <tbody>\n",
       "    <tr>\n",
       "      <th>8</th>\n",
       "      <td>9</td>\n",
       "      <td>ARMATAGE</td>\n",
       "      <td>Aggravated Assault</td>\n",
       "      <td>0.0</td>\n",
       "      <td>8</td>\n",
       "      <td>2017</td>\n",
       "    </tr>\n",
       "    <tr>\n",
       "      <th>9</th>\n",
       "      <td>10</td>\n",
       "      <td>ARMATAGE</td>\n",
       "      <td>Arson</td>\n",
       "      <td>0.0</td>\n",
       "      <td>8</td>\n",
       "      <td>2017</td>\n",
       "    </tr>\n",
       "  </tbody>\n",
       "</table>\n",
       "</div>"
      ],
      "text/plain": [
       "   OBJECTID neighborhood      ucrDescription  number  reportMonth  reportYear\n",
       "8         9     ARMATAGE  Aggravated Assault     0.0            8        2017\n",
       "9        10     ARMATAGE               Arson     0.0            8        2017"
      ]
     },
     "execution_count": 236,
     "metadata": {},
     "output_type": "execute_result"
    }
   ],
   "source": [
    "#Drop neigborghood that are not defined ie.WRK_MSP_Crime_df2 = WRK_MSP_Crime_df1.loc[WRK_MSP_Crime_df[\"neighborhood\"] != \"Z_** NOT ASSIGNED **\", \"** NOT ASSIGNED **\",:]\n",
    "WRK_MSP_Crime_df = MSP_Crimedf.loc[MSP_Crimedf[\"neighborhood\"] != \"Z_** NOT ASSIGNED **\",:]\n",
    "WRK_MSP_Crime_df = MSP_Crimedf.loc[MSP_Crimedf[\"neighborhood\"] != \"** NOT ASSIGNED **\",:]\n",
    "WRK_MSP_Crime_df.head(2)\n"
   ]
  },
  {
   "cell_type": "code",
   "execution_count": 237,
   "metadata": {},
   "outputs": [
    {
     "data": {
      "text/plain": [
       "OBJECTID          16192\n",
       "neighborhood      16192\n",
       "ucrDescription    16192\n",
       "number            12902\n",
       "reportMonth       16192\n",
       "reportYear        16192\n",
       "dtype: int64"
      ]
     },
     "execution_count": 237,
     "metadata": {},
     "output_type": "execute_result"
    }
   ],
   "source": [
    "#Check for missing Value\n",
    "MSP_Crime_df.count()"
   ]
  },
  {
   "cell_type": "code",
   "execution_count": 238,
   "metadata": {},
   "outputs": [
    {
     "data": {
      "text/plain": [
       "OBJECTID          12855\n",
       "neighborhood      12855\n",
       "ucrDescription    12855\n",
       "number            12855\n",
       "reportMonth       12855\n",
       "reportYear        12855\n",
       "dtype: int64"
      ]
     },
     "execution_count": 238,
     "metadata": {},
     "output_type": "execute_result"
    }
   ],
   "source": [
    "#Remove Empty rows from records\n",
    "no_null_crime_df = WRK_MSP_Crime_df.dropna(how='any')\n",
    "no_null_crime_df.count()\n"
   ]
  },
  {
   "cell_type": "code",
   "execution_count": 239,
   "metadata": {},
   "outputs": [
    {
     "data": {
      "text/html": [
       "<div>\n",
       "<style scoped>\n",
       "    .dataframe tbody tr th:only-of-type {\n",
       "        vertical-align: middle;\n",
       "    }\n",
       "\n",
       "    .dataframe tbody tr th {\n",
       "        vertical-align: top;\n",
       "    }\n",
       "\n",
       "    .dataframe thead th {\n",
       "        text-align: right;\n",
       "    }\n",
       "</style>\n",
       "<table border=\"1\" class=\"dataframe\">\n",
       "  <thead>\n",
       "    <tr style=\"text-align: right;\">\n",
       "      <th></th>\n",
       "      <th>OBJECTID</th>\n",
       "      <th>Neighborhood</th>\n",
       "      <th>Crimes</th>\n",
       "      <th>Number</th>\n",
       "      <th>Month</th>\n",
       "      <th>Year</th>\n",
       "    </tr>\n",
       "  </thead>\n",
       "  <tbody>\n",
       "    <tr>\n",
       "      <th>8</th>\n",
       "      <td>9</td>\n",
       "      <td>ARMATAGE</td>\n",
       "      <td>Aggravated Assault</td>\n",
       "      <td>0.0</td>\n",
       "      <td>8</td>\n",
       "      <td>2017</td>\n",
       "    </tr>\n",
       "    <tr>\n",
       "      <th>9</th>\n",
       "      <td>10</td>\n",
       "      <td>ARMATAGE</td>\n",
       "      <td>Arson</td>\n",
       "      <td>0.0</td>\n",
       "      <td>8</td>\n",
       "      <td>2017</td>\n",
       "    </tr>\n",
       "    <tr>\n",
       "      <th>10</th>\n",
       "      <td>11</td>\n",
       "      <td>ARMATAGE</td>\n",
       "      <td>Auto Theft</td>\n",
       "      <td>1.0</td>\n",
       "      <td>8</td>\n",
       "      <td>2017</td>\n",
       "    </tr>\n",
       "    <tr>\n",
       "      <th>11</th>\n",
       "      <td>12</td>\n",
       "      <td>ARMATAGE</td>\n",
       "      <td>Burglary</td>\n",
       "      <td>3.0</td>\n",
       "      <td>8</td>\n",
       "      <td>2017</td>\n",
       "    </tr>\n",
       "    <tr>\n",
       "      <th>12</th>\n",
       "      <td>13</td>\n",
       "      <td>ARMATAGE</td>\n",
       "      <td>Homicide</td>\n",
       "      <td>0.0</td>\n",
       "      <td>8</td>\n",
       "      <td>2017</td>\n",
       "    </tr>\n",
       "  </tbody>\n",
       "</table>\n",
       "</div>"
      ],
      "text/plain": [
       "    OBJECTID Neighborhood              Crimes  Number  Month  Year\n",
       "8          9     ARMATAGE  Aggravated Assault     0.0      8  2017\n",
       "9         10     ARMATAGE               Arson     0.0      8  2017\n",
       "10        11     ARMATAGE          Auto Theft     1.0      8  2017\n",
       "11        12     ARMATAGE            Burglary     3.0      8  2017\n",
       "12        13     ARMATAGE            Homicide     0.0      8  2017"
      ]
     },
     "execution_count": 239,
     "metadata": {},
     "output_type": "execute_result"
    }
   ],
   "source": [
    "#Rename Headers for Clarity \n",
    "Rename_Crime_df = no_null_crime_df.rename(\n",
    "    columns={\"ucrDescription\": \"Crimes\", \"reportMonth\": \"Month\",\"reportYear\": \"Year\",\"neighborhood\": \"Neighborhood\",\"number\": \"Number\"})\n",
    "Rename_Crime_df.head ()\n",
    "#Rename_Crime_df.index.values\n"
   ]
  },
  {
   "cell_type": "code",
   "execution_count": 240,
   "metadata": {},
   "outputs": [],
   "source": [
    "# #Unique Counts in Neigborhood\n",
    "# unique = Rename_Crime_df[\"Crimes\"].unique()\n",
    "# unique1 = Rename_Crime_df[\"Neighborhood\"].unique()"
   ]
  },
  {
   "cell_type": "code",
   "execution_count": 242,
   "metadata": {},
   "outputs": [
    {
     "data": {
      "text/html": [
       "<div>\n",
       "<style scoped>\n",
       "    .dataframe tbody tr th:only-of-type {\n",
       "        vertical-align: middle;\n",
       "    }\n",
       "\n",
       "    .dataframe tbody tr th {\n",
       "        vertical-align: top;\n",
       "    }\n",
       "\n",
       "    .dataframe thead th {\n",
       "        text-align: right;\n",
       "    }\n",
       "</style>\n",
       "<table border=\"1\" class=\"dataframe\">\n",
       "  <thead>\n",
       "    <tr style=\"text-align: right;\">\n",
       "      <th></th>\n",
       "      <th>OBJECTID</th>\n",
       "      <th>Neighborhood</th>\n",
       "      <th>Crimes</th>\n",
       "      <th>Number</th>\n",
       "      <th>Month</th>\n",
       "      <th>Year</th>\n",
       "      <th>Month_Year</th>\n",
       "    </tr>\n",
       "  </thead>\n",
       "  <tbody>\n",
       "    <tr>\n",
       "      <th>8</th>\n",
       "      <td>9</td>\n",
       "      <td>ARMATAGE</td>\n",
       "      <td>Aggravated Assault</td>\n",
       "      <td>0</td>\n",
       "      <td>8</td>\n",
       "      <td>2017</td>\n",
       "      <td>2017-08-01</td>\n",
       "    </tr>\n",
       "    <tr>\n",
       "      <th>9</th>\n",
       "      <td>10</td>\n",
       "      <td>ARMATAGE</td>\n",
       "      <td>Arson</td>\n",
       "      <td>0</td>\n",
       "      <td>8</td>\n",
       "      <td>2017</td>\n",
       "      <td>2017-08-01</td>\n",
       "    </tr>\n",
       "  </tbody>\n",
       "</table>\n",
       "</div>"
      ],
      "text/plain": [
       "   OBJECTID Neighborhood              Crimes  Number  Month  Year Month_Year\n",
       "8         9     ARMATAGE  Aggravated Assault       0      8  2017 2017-08-01\n",
       "9        10     ARMATAGE               Arson       0      8  2017 2017-08-01"
      ]
     },
     "execution_count": 242,
     "metadata": {},
     "output_type": "execute_result"
    }
   ],
   "source": [
    "#Combine Month and Year \n",
    "# Rename_Crime_df['Month'] = Rename_Crime_df['Month'].astype(str)\n",
    "# Rename_Crime_df['Year'] = Rename_Crime_df['Year'].astype(str)\n",
    "Rename_Crime_df['Number'] = Rename_Crime_df['Number'].astype(int)\n",
    "# Rename_Crime_df['Month_Year'] = Rename_Crime_df ['Month']+ \"_\" + Rename_Crime_df['Year']\n",
    "Rename_Crime_df['Month_Year']  = pd.to_datetime(Rename_Crime_df[['Year', 'Month']].assign(Day=1))\n",
    "# Rename_Crime_df.head(5)\n",
    "Rename_Crime_df.head(2)"
   ]
  },
  {
   "cell_type": "code",
   "execution_count": null,
   "metadata": {},
   "outputs": [],
   "source": []
  },
  {
   "cell_type": "code",
   "execution_count": 219,
   "metadata": {},
   "outputs": [],
   "source": [
    "Rename_Crime_Sort_df = Rename_Crime_df.sort_values([\"Crimes\"], ascending=True)\n",
    "#Rename_Crime_Sort_df"
   ]
  },
  {
   "cell_type": "code",
   "execution_count": 252,
   "metadata": {},
   "outputs": [
    {
     "data": {
      "text/plain": [
       "Neighborhood  Month_Year\n",
       "ARMATAGE      2017-08-01    11\n",
       "              2017-09-01    13\n",
       "              2017-10-01     7\n",
       "              2017-11-01     9\n",
       "              2017-12-01    16\n",
       "Name: Number, dtype: int32"
      ]
     },
     "execution_count": 252,
     "metadata": {},
     "output_type": "execute_result"
    }
   ],
   "source": [
    "TCrime_Neighboood = Rename_Crime_Sort_df.groupby(['Neighborhood', 'Month_Year'])['Number'].sum()\n",
    "TCrime_Neighboood.head()"
   ]
  },
  {
   "cell_type": "code",
   "execution_count": null,
   "metadata": {},
   "outputs": [],
   "source": []
  },
  {
   "cell_type": "code",
   "execution_count": 281,
   "metadata": {},
   "outputs": [
    {
     "data": {
      "text/plain": [
       "Crimes              Month_Year\n",
       "Aggravated Assault  2017-08-01    200\n",
       "                    2017-09-01    186\n",
       "                    2017-10-01    172\n",
       "                    2017-11-01    191\n",
       "                    2017-12-01    126\n",
       "Name: Number, dtype: int32"
      ]
     },
     "execution_count": 281,
     "metadata": {},
     "output_type": "execute_result"
    }
   ],
   "source": [
    "TCrime_Month_Year = Rename_Crime_df.groupby(['Crimes', 'Month_Year'])['Number'].sum()\n",
    "TCrime_Month_Year.head (5)"
   ]
  },
  {
   "cell_type": "code",
   "execution_count": 301,
   "metadata": {},
   "outputs": [
    {
     "data": {
      "text/plain": [
       "<bound method NDFrame.head of Crimes              Year\n",
       "Aggravated Assault  2017      875\n",
       "                    2018     1791\n",
       "                    2019      924\n",
       "Arson               2017       52\n",
       "                    2018       71\n",
       "                    2019       33\n",
       "Auto Theft          2017      973\n",
       "                    2018     2207\n",
       "                    2019     1283\n",
       "Burglary            2017     1711\n",
       "                    2018     3057\n",
       "                    2019     1382\n",
       "Homicide            2017       16\n",
       "                    2018       30\n",
       "                    2019       13\n",
       "Larceny             2017     5517\n",
       "                    2018    11486\n",
       "                    2019     5770\n",
       "Rape                2017      200\n",
       "                    2018      450\n",
       "                    2019      255\n",
       "Robbery             2017      721\n",
       "                    2018     1178\n",
       "                    2019      520\n",
       "Name: Number, dtype: int32>"
      ]
     },
     "execution_count": 301,
     "metadata": {},
     "output_type": "execute_result"
    }
   ],
   "source": [
    "Total Number committed in Year\n",
    "TCrime_Year = Rename_Crime_df.groupby(['Crimes', 'Year'])['Number'].sum()\n",
    "TCrime_Year.head "
   ]
  },
  {
   "cell_type": "code",
   "execution_count": 306,
   "metadata": {},
   "outputs": [
    {
     "data": {
      "text/plain": [
       "Crimes              Year\n",
       "Aggravated Assault  2017     275\n",
       "                    2018     841\n",
       "                    2019     528\n",
       "Arson               2017     116\n",
       "                    2018     639\n",
       "                    2019     528\n",
       "Auto Theft          2017     338\n",
       "                    2018     900\n",
       "                    2019     528\n",
       "Burglary            2017     388\n",
       "                    2018     955\n",
       "                    2019     528\n",
       "Homicide            2017     101\n",
       "                    2018     626\n",
       "                    2019     528\n",
       "Larceny             2017     424\n",
       "                    2018    1027\n",
       "                    2019     528\n",
       "Rape                2017     197\n",
       "                    2018     728\n",
       "                    2019     528\n",
       "Robbery             2017     269\n",
       "                    2018     807\n",
       "                    2019     528\n",
       "Name: Month, dtype: int64"
      ]
     },
     "execution_count": 306,
     "metadata": {},
     "output_type": "execute_result"
    }
   ],
   "source": [
    "#Counts of all the month crimes were committed in all the neighbourhood \n",
    "Month = Rename_Crime_df.groupby(['Crimes', 'Year'])['Month'].count()\n",
    "TCrime_Month"
   ]
  },
  {
   "cell_type": "code",
   "execution_count": 313,
   "metadata": {},
   "outputs": [
    {
     "data": {
      "text/plain": [
       "Crimes              Year\n",
       "Aggravated Assault  2017      3.18182\n",
       "                    2018      2.12961\n",
       "                    2019         1.75\n",
       "Arson               2017     0.448276\n",
       "                    2018     0.111111\n",
       "                    2019       0.0625\n",
       "Auto Theft          2017       2.8787\n",
       "                    2018      2.45222\n",
       "                    2019      2.42992\n",
       "Burglary            2017      4.40979\n",
       "                    2018      3.20105\n",
       "                    2019      2.61742\n",
       "Homicide            2017     0.158416\n",
       "                    2018    0.0479233\n",
       "                    2019    0.0246212\n",
       "Larceny             2017      13.0118\n",
       "                    2018       11.184\n",
       "                    2019       10.928\n",
       "Month                             NaN\n",
       "Rape                2017      1.01523\n",
       "                    2018     0.618132\n",
       "                    2019     0.482955\n",
       "Robbery             2017       2.6803\n",
       "                    2018      1.45973\n",
       "                    2019     0.984848\n",
       "dtype: object"
      ]
     },
     "execution_count": 313,
     "metadata": {},
     "output_type": "execute_result"
    }
   ],
   "source": [
    "#Average Crime committed in each year\n",
    "ACY = TCrime_Year / TCrime_Month\n",
    "ACY"
   ]
  },
  {
   "cell_type": "code",
   "execution_count": 314,
   "metadata": {},
   "outputs": [
    {
     "data": {
      "text/plain": [
       "Crimes              Year\n",
       "Aggravated Assault  2017      3.18182\n",
       "                    2018      2.12961\n",
       "                    2019         1.75\n",
       "Arson               2017     0.448276\n",
       "                    2018     0.111111\n",
       "                    2019       0.0625\n",
       "Auto Theft          2017       2.8787\n",
       "                    2018      2.45222\n",
       "                    2019      2.42992\n",
       "Burglary            2017      4.40979\n",
       "                    2018      3.20105\n",
       "                    2019      2.61742\n",
       "Homicide            2017     0.158416\n",
       "                    2018    0.0479233\n",
       "                    2019    0.0246212\n",
       "Larceny             2017      13.0118\n",
       "                    2018       11.184\n",
       "                    2019       10.928\n",
       "Rape                2017      1.01523\n",
       "                    2018     0.618132\n",
       "                    2019     0.482955\n",
       "Robbery             2017       2.6803\n",
       "                    2018      1.45973\n",
       "                    2019     0.984848\n",
       "dtype: object"
      ]
     },
     "execution_count": 314,
     "metadata": {},
     "output_type": "execute_result"
    }
   ],
   "source": [
    "AverageCY = ACY.dropna(how='any')\n",
    "AverageCY"
   ]
  },
  {
   "cell_type": "code",
   "execution_count": 322,
   "metadata": {},
   "outputs": [],
   "source": [
    "# >>> ax.get_children()\n"
   ]
  },
  {
   "cell_type": "code",
   "execution_count": 319,
   "metadata": {
    "scrolled": true
   },
   "outputs": [
    {
     "data": {
      "text/plain": [
       "Text(0, 0.5, 'Average Crime')"
      ]
     },
     "execution_count": 319,
     "metadata": {},
     "output_type": "execute_result"
    },
    {
     "data": {
      "image/png": "[encoded data removed]",
      "text/plain": [
       "<Figure size 432x288 with 1 Axes>"
      ]
     },
     "metadata": {
      "needs_background": "light"
     },
     "output_type": "display_data"
    }
   ],
   "source": [
    "#remove empty records\n",
    "Avg_year_chart = AverageCY.plot(kind=\"bar\", color = \"g\", title=\"Average Crime by year\")\n",
    "Avg_year_chart.set_xlabel(\"Year\")\n",
    "Avg_year_chart.set_ylabel(\"Average Crime\")\n"
   ]
  },
  {
   "cell_type": "code",
   "execution_count": 324,
   "metadata": {},
   "outputs": [
    {
     "ename": "AttributeError",
     "evalue": "'AxesSubplot' object has no attribute 'savefig'",
     "output_type": "error",
     "traceback": [
      "\u001b[1;31m---------------------------------------------------------------------------\u001b[0m",
      "\u001b[1;31mAttributeError\u001b[0m                            Traceback (most recent call last)",
      "\u001b[1;32m<ipython-input-324-444e6880edd8>\u001b[0m in \u001b[0;36m<module>\u001b[1;34m\u001b[0m\n\u001b[0;32m      1\u001b[0m \u001b[1;31m#save your bar chart\u001b[0m\u001b[1;33m\u001b[0m\u001b[1;33m\u001b[0m\u001b[1;33m\u001b[0m\u001b[0m\n\u001b[1;32m----> 2\u001b[1;33m \u001b[0mAvg_year_chart\u001b[0m\u001b[1;33m.\u001b[0m\u001b[0msavefig\u001b[0m\u001b[1;33m(\u001b[0m\u001b[1;34m\"Average_Crime_Bar_Chart\"\u001b[0m\u001b[1;33m)\u001b[0m\u001b[1;33m\u001b[0m\u001b[1;33m\u001b[0m\u001b[0m\n\u001b[0m",
      "\u001b[1;31mAttributeError\u001b[0m: 'AxesSubplot' object has no attribute 'savefig'"
     ]
    }
   ],
   "source": [
    "#save your bar chart\n",
    "Avg_year_chart.savefig(\"Average_Crime_Bar_Chart\")"
   ]
  },
  {
   "cell_type": "code",
   "execution_count": 227,
   "metadata": {
    "scrolled": true
   },
   "outputs": [
    {
     "data": {
      "text/plain": [
       "<matplotlib.legend.Legend at 0x1ca33837470>"
      ]
     },
     "execution_count": 227,
     "metadata": {},
     "output_type": "execute_result"
    },
    {
     "data": {
      "image/png": "[encoded data removed]",
      "text/plain": [
       "<Figure size 432x288 with 1 Axes>"
      ]
     },
     "metadata": {
      "needs_background": "light"
     },
     "output_type": "display_data"
    }
   ],
   "source": [
    "# # Set values for Y & X axis \n",
    "Crime_Aggravated_Assault = TCrime_Month_Year.loc[\"Aggravated Assault\"]\n",
    "Crime_Arson = TCrime_Month_Year.loc[\"Arson\"]\n",
    "Crime_Auto_Theft = TCrime_Month_Year.loc[\"Auto Theft\"]\n",
    "Crime_Burglary = TCrime_Month_Year.loc[\"Burglary\"]\n",
    "Crime_Homicide = TCrime_Month_Year.loc[\"Homicide\"]\n",
    "Crime_Larceny = TCrime_Month_Year.loc[\"Larceny\"]\n",
    "Crime_Rape = TCrime_Month_Year.loc[\"Rape\"]\n",
    "Crime_Robbery  = TCrime_Month_Year.loc[\"Robbery\"]\n",
    "\n",
    "# y-axis = [Crime_Aggravated_Assault,Crime_Arson,Crime_Auto_Theft,Crime_Burglary,Crime_Homicide, Crime_Larceny, Crime_Rape, Crime_Robbery]\n",
    "# x_axis = \n",
    "# # # y = TCrime_Month_Year[2]\n",
    "# # # ax.plot(x[0], x[1]);\n",
    "\n",
    "# ax = Crime_Aggravated_Assault.plot(x=\"Month_Year\")\n",
    "ax = Crime_Arson.plot(x=\"Month_Year\", y=[Crime_Arson])\n",
    "ax = Crime_Auto_Theft.plot(x=\"Month_Year\", y=[Crime_Auto_Theft])\n",
    "ax = Crime_Burglary.plot(x=\"Month_Year\", y=[Crime_Burglary])\n",
    "ax = Crime_Homicide.plot(x=\"Month_Year\", y=[Crime_Homicide])\n",
    "ax = Crime_Larceny.plot(x=\"Month_Year\", y=[Crime_Larceny])\n",
    "ax = Crime_Rape.plot(x=\"Month_Year\", y=[Crime_Rape])\n",
    "ax = Crime_Robbery.plot(x=\"Month_Year\", y=[Crime_Robbery])\n",
    "ax.set_ylabel(\"Crime Total\")\n",
    "ax.legend([\"Crime_Aggravated_Assault\",\"Crime_Arson\", \"Crime_Auto_Theft\",\"Crime_Burglary\",\"Crime_Homicide\", \"Crime_Larceny\",\"Crime_Rape\",\"Crime_Robbery\"  ],loc=\"best\",bbox_to_anchor=(1,1))"
   ]
  },
  {
   "cell_type": "code",
   "execution_count": 232,
   "metadata": {},
   "outputs": [
    {
     "ename": "AttributeError",
     "evalue": "'function' object has no attribute 'savefig'",
     "output_type": "error",
     "traceback": [
      "\u001b[1;31m---------------------------------------------------------------------------\u001b[0m",
      "\u001b[1;31mAttributeError\u001b[0m                            Traceback (most recent call last)",
      "\u001b[1;32m<ipython-input-232-94ac76dd0fdf>\u001b[0m in \u001b[0;36m<module>\u001b[1;34m\u001b[0m\n\u001b[0;32m      1\u001b[0m \u001b[1;31m# Save the plot and display it\u001b[0m\u001b[1;33m\u001b[0m\u001b[1;33m\u001b[0m\u001b[1;33m\u001b[0m\u001b[0m\n\u001b[1;32m----> 2\u001b[1;33m \u001b[0max\u001b[0m\u001b[1;33m.\u001b[0m\u001b[0mplot\u001b[0m\u001b[1;33m.\u001b[0m\u001b[0msavefig\u001b[0m\u001b[1;33m(\u001b[0m\u001b[1;34m\"Resources/CT_Graph\"\u001b[0m\u001b[1;33m)\u001b[0m\u001b[1;33m\u001b[0m\u001b[1;33m\u001b[0m\u001b[0m\n\u001b[0m",
      "\u001b[1;31mAttributeError\u001b[0m: 'function' object has no attribute 'savefig'"
     ]
    }
   ],
   "source": [
    "# Save the plot and display it\n",
    "ax.plot.savefig(\"Resources/CT_Graph\")\n"
   ]
  },
  {
   "cell_type": "code",
   "execution_count": null,
   "metadata": {},
   "outputs": [],
   "source": []
  },
  {
   "cell_type": "code",
   "execution_count": null,
   "metadata": {},
   "outputs": [],
   "source": []
  },
  {
   "cell_type": "code",
   "execution_count": null,
   "metadata": {},
   "outputs": [],
   "source": []
  },
  {
   "cell_type": "code",
   "execution_count": null,
   "metadata": {},
   "outputs": [],
   "source": []
  },
  {
   "cell_type": "code",
   "execution_count": null,
   "metadata": {},
   "outputs": [],
   "source": []
  },
  {
   "cell_type": "code",
   "execution_count": null,
   "metadata": {},
   "outputs": [],
   "source": []
  },
  {
   "cell_type": "code",
   "execution_count": null,
   "metadata": {},
   "outputs": [],
   "source": []
  },
  {
   "cell_type": "code",
   "execution_count": null,
   "metadata": {},
   "outputs": [],
   "source": []
  },
  {
   "cell_type": "code",
   "execution_count": null,
   "metadata": {},
   "outputs": [],
   "source": []
  },
  {
   "cell_type": "code",
   "execution_count": null,
   "metadata": {},
   "outputs": [],
   "source": []
  }
 ],
 "metadata": {
  "celltoolbar": "Tags",
  "kernelspec": {
   "display_name": "Python 3",
   "language": "python",
   "name": "python3"
  },
  "language_info": {
   "codemirror_mode": {
    "name": "ipython",
    "version": 3
   },
   "file_extension": ".py",
   "mimetype": "text/x-python",
   "name": "python",
   "nbconvert_exporter": "python",
   "pygments_lexer": "ipython3",
   "version": "3.7.3"
  }
 },
 "nbformat": 4,
 "nbformat_minor": 2
}
