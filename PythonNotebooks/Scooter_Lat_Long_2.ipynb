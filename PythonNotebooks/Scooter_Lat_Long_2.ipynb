{
 "cells": [
  {
   "cell_type": "code",
   "execution_count": 35,
   "metadata": {},
   "outputs": [],
   "source": [
    "# Dependencies\n",
    "import pandas as pd\n",
    "import numpy as np\n",
    "import requests\n",
    "import json\n",
    "\n",
    "# Google API Key\n",
    "from config import gkey"
   ]
  },
  {
   "cell_type": "code",
   "execution_count": 36,
   "metadata": {},
   "outputs": [
    {
     "data": {
      "text/html": [
       "<div>\n",
       "<style scoped>\n",
       "    .dataframe tbody tr th:only-of-type {\n",
       "        vertical-align: middle;\n",
       "    }\n",
       "\n",
       "    .dataframe tbody tr th {\n",
       "        vertical-align: top;\n",
       "    }\n",
       "\n",
       "    .dataframe thead th {\n",
       "        text-align: right;\n",
       "    }\n",
       "</style>\n",
       "<table border=\"1\" class=\"dataframe\">\n",
       "  <thead>\n",
       "    <tr style=\"text-align: right;\">\n",
       "      <th></th>\n",
       "      <th>Address1</th>\n",
       "    </tr>\n",
       "  </thead>\n",
       "  <tbody>\n",
       "    <tr>\n",
       "      <th>0</th>\n",
       "      <td>4TH ST S Minneapolis</td>\n",
       "    </tr>\n",
       "    <tr>\n",
       "      <th>1</th>\n",
       "      <td>FREMONT AVE S FRANKLIN AVE W Minneapolis</td>\n",
       "    </tr>\n",
       "    <tr>\n",
       "      <th>2</th>\n",
       "      <td>15TH ST E PORTLAND AVE Minneapolis</td>\n",
       "    </tr>\n",
       "    <tr>\n",
       "      <th>3</th>\n",
       "      <td>22ND AVE NE FILLMORE ST NE Minneapolis</td>\n",
       "    </tr>\n",
       "    <tr>\n",
       "      <th>4</th>\n",
       "      <td>24TH ST W GIRARD AVE S Minneapolis</td>\n",
       "    </tr>\n",
       "  </tbody>\n",
       "</table>\n",
       "</div>"
      ],
      "text/plain": [
       "                                   Address1\n",
       "0                      4TH ST S Minneapolis\n",
       "1  FREMONT AVE S FRANKLIN AVE W Minneapolis\n",
       "2        15TH ST E PORTLAND AVE Minneapolis\n",
       "3    22ND AVE NE FILLMORE ST NE Minneapolis\n",
       "4        24TH ST W GIRARD AVE S Minneapolis"
      ]
     },
     "execution_count": 36,
     "metadata": {},
     "output_type": "execute_result"
    }
   ],
   "source": [
    " # Import Scooter Address file as DataFrame\n",
    "scooter_pd = pd.read_csv(\"Downloads/scooter_address2.csv\")\n",
    "scooter_pd.head()"
   ]
  },
  {
   "cell_type": "code",
   "execution_count": 37,
   "metadata": {},
   "outputs": [
    {
     "name": "stdout",
     "output_type": "stream",
     "text": [
      "2000\n"
     ]
    }
   ],
   "source": [
    "address_unique = scooter_pd[\"Address1\"].nunique()\n",
    "print(address_unique)"
   ]
  },
  {
   "cell_type": "code",
   "execution_count": 38,
   "metadata": {},
   "outputs": [
    {
     "data": {
      "text/html": [
       "<div>\n",
       "<style scoped>\n",
       "    .dataframe tbody tr th:only-of-type {\n",
       "        vertical-align: middle;\n",
       "    }\n",
       "\n",
       "    .dataframe tbody tr th {\n",
       "        vertical-align: top;\n",
       "    }\n",
       "\n",
       "    .dataframe thead th {\n",
       "        text-align: right;\n",
       "    }\n",
       "</style>\n",
       "<table border=\"1\" class=\"dataframe\">\n",
       "  <thead>\n",
       "    <tr style=\"text-align: right;\">\n",
       "      <th></th>\n",
       "      <th>Address1</th>\n",
       "      <th>Lat</th>\n",
       "      <th>Lng</th>\n",
       "    </tr>\n",
       "  </thead>\n",
       "  <tbody>\n",
       "    <tr>\n",
       "      <th>0</th>\n",
       "      <td>4TH ST S Minneapolis</td>\n",
       "      <td></td>\n",
       "      <td></td>\n",
       "    </tr>\n",
       "    <tr>\n",
       "      <th>1</th>\n",
       "      <td>FREMONT AVE S FRANKLIN AVE W Minneapolis</td>\n",
       "      <td></td>\n",
       "      <td></td>\n",
       "    </tr>\n",
       "    <tr>\n",
       "      <th>2</th>\n",
       "      <td>15TH ST E PORTLAND AVE Minneapolis</td>\n",
       "      <td></td>\n",
       "      <td></td>\n",
       "    </tr>\n",
       "    <tr>\n",
       "      <th>3</th>\n",
       "      <td>22ND AVE NE FILLMORE ST NE Minneapolis</td>\n",
       "      <td></td>\n",
       "      <td></td>\n",
       "    </tr>\n",
       "    <tr>\n",
       "      <th>4</th>\n",
       "      <td>24TH ST W GIRARD AVE S Minneapolis</td>\n",
       "      <td></td>\n",
       "      <td></td>\n",
       "    </tr>\n",
       "  </tbody>\n",
       "</table>\n",
       "</div>"
      ],
      "text/plain": [
       "                                   Address1 Lat Lng\n",
       "0                      4TH ST S Minneapolis        \n",
       "1  FREMONT AVE S FRANKLIN AVE W Minneapolis        \n",
       "2        15TH ST E PORTLAND AVE Minneapolis        \n",
       "3    22ND AVE NE FILLMORE ST NE Minneapolis        \n",
       "4        24TH ST W GIRARD AVE S Minneapolis        "
      ]
     },
     "execution_count": 38,
     "metadata": {},
     "output_type": "execute_result"
    }
   ],
   "source": [
    "# Add columns for lat, lng\n",
    "# Note that we used \"\" to specify initial entry.\n",
    "scooter_pd[\"Lat\"] = \"\"\n",
    "scooter_pd[\"Lng\"] = \"\"\n",
    "\n",
    "scooter_pd.head()"
   ]
  },
  {
   "cell_type": "code",
   "execution_count": 39,
   "metadata": {},
   "outputs": [],
   "source": [
    " # create a params dict that will be updated with new address each iteration\n",
    "params = {\"key\": gkey}\n",
    "\n",
    "# Loop through the cities_pd and run a lat/long search for each city\n",
    "for index, row in scooter_pd.iterrows():\n",
    "    base_url = \"https://maps.googleapis.com/maps/api/geocode/json\"\n",
    "\n",
    "    address1 = row['Address1']\n",
    "\n",
    "    # update address key value\n",
    "    params['address'] = f\"{address1}\"\n",
    "\n",
    "    # make request\n",
    "    scooter_lat_lng = requests.get(base_url, params=params)\n",
    "    \n",
    "    # print the sddress_lat_lng url, avoid doing for public github repos in order to avoid exposing key\n",
    "    # print(scooter_lat_lng.url)\n",
    "    \n",
    "    # convert to json\n",
    "    scooter_lat_lng = scooter_lat_lng.json()\n",
    "\n",
    "    scooter_pd.loc[index, \"Lat\"] = scooter_lat_lng[\"results\"][0][\"geometry\"][\"location\"][\"lat\"]\n",
    "    scooter_pd.loc[index, \"Lng\"] = scooter_lat_lng[\"results\"][0][\"geometry\"][\"location\"][\"lng\"]"
   ]
  },
  {
   "cell_type": "code",
   "execution_count": 41,
   "metadata": {},
   "outputs": [
    {
     "data": {
      "text/html": [
       "<div>\n",
       "<style scoped>\n",
       "    .dataframe tbody tr th:only-of-type {\n",
       "        vertical-align: middle;\n",
       "    }\n",
       "\n",
       "    .dataframe tbody tr th {\n",
       "        vertical-align: top;\n",
       "    }\n",
       "\n",
       "    .dataframe thead th {\n",
       "        text-align: right;\n",
       "    }\n",
       "</style>\n",
       "<table border=\"1\" class=\"dataframe\">\n",
       "  <thead>\n",
       "    <tr style=\"text-align: right;\">\n",
       "      <th></th>\n",
       "      <th>Address1</th>\n",
       "      <th>Lat</th>\n",
       "      <th>Lng</th>\n",
       "    </tr>\n",
       "  </thead>\n",
       "  <tbody>\n",
       "    <tr>\n",
       "      <th>0</th>\n",
       "      <td>4TH ST S Minneapolis</td>\n",
       "      <td>44.9766</td>\n",
       "      <td>-93.2624</td>\n",
       "    </tr>\n",
       "    <tr>\n",
       "      <th>1</th>\n",
       "      <td>FREMONT AVE S FRANKLIN AVE W Minneapolis</td>\n",
       "      <td>44.9627</td>\n",
       "      <td>-93.2956</td>\n",
       "    </tr>\n",
       "    <tr>\n",
       "      <th>2</th>\n",
       "      <td>15TH ST E PORTLAND AVE Minneapolis</td>\n",
       "      <td>44.9681</td>\n",
       "      <td>-93.2677</td>\n",
       "    </tr>\n",
       "    <tr>\n",
       "      <th>3</th>\n",
       "      <td>22ND AVE NE FILLMORE ST NE Minneapolis</td>\n",
       "      <td>45.0096</td>\n",
       "      <td>-93.2423</td>\n",
       "    </tr>\n",
       "    <tr>\n",
       "      <th>4</th>\n",
       "      <td>24TH ST W GIRARD AVE S Minneapolis</td>\n",
       "      <td>44.9591</td>\n",
       "      <td>-93.2969</td>\n",
       "    </tr>\n",
       "  </tbody>\n",
       "</table>\n",
       "</div>"
      ],
      "text/plain": [
       "                                   Address1      Lat      Lng\n",
       "0                      4TH ST S Minneapolis  44.9766 -93.2624\n",
       "1  FREMONT AVE S FRANKLIN AVE W Minneapolis  44.9627 -93.2956\n",
       "2        15TH ST E PORTLAND AVE Minneapolis  44.9681 -93.2677\n",
       "3    22ND AVE NE FILLMORE ST NE Minneapolis  45.0096 -93.2423\n",
       "4        24TH ST W GIRARD AVE S Minneapolis  44.9591 -93.2969"
      ]
     },
     "execution_count": 41,
     "metadata": {},
     "output_type": "execute_result"
    }
   ],
   "source": [
    "# Save Data to csv\n",
    "scooter_pd.to_csv(\"Downloads/Scooter_Lat_long_2.csv\")\n",
    "\n",
    "# Visualize to confirm airport data appears\n",
    "scooter_pd.head()"
   ]
  },
  {
   "cell_type": "code",
   "execution_count": null,
   "metadata": {},
   "outputs": [],
   "source": []
  }
 ],
 "metadata": {
  "kernelspec": {
   "display_name": "Python 3",
   "language": "python",
   "name": "python3"
  },
  "language_info": {
   "codemirror_mode": {
    "name": "ipython",
    "version": 3
   },
   "file_extension": ".py",
   "mimetype": "text/x-python",
   "name": "python",
   "nbconvert_exporter": "python",
   "pygments_lexer": "ipython3",
   "version": "3.7.3"
  }
 },
 "nbformat": 4,
 "nbformat_minor": 2
}
