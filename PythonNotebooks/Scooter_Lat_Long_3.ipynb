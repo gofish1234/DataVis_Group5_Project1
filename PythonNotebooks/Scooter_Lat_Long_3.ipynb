{
 "cells": [
  {
   "cell_type": "code",
   "execution_count": 1,
   "metadata": {},
   "outputs": [],
   "source": [
    "# Dependencies\n",
    "import pandas as pd\n",
    "import numpy as np\n",
    "import requests\n",
    "import json\n",
    "\n",
    "# Google API Key\n",
    "from config import gkey"
   ]
  },
  {
   "cell_type": "code",
   "execution_count": 2,
   "metadata": {},
   "outputs": [
    {
     "data": {
      "text/html": [
       "<div>\n",
       "<style scoped>\n",
       "    .dataframe tbody tr th:only-of-type {\n",
       "        vertical-align: middle;\n",
       "    }\n",
       "\n",
       "    .dataframe tbody tr th {\n",
       "        vertical-align: top;\n",
       "    }\n",
       "\n",
       "    .dataframe thead th {\n",
       "        text-align: right;\n",
       "    }\n",
       "</style>\n",
       "<table border=\"1\" class=\"dataframe\">\n",
       "  <thead>\n",
       "    <tr style=\"text-align: right;\">\n",
       "      <th></th>\n",
       "      <th>Address1</th>\n",
       "    </tr>\n",
       "  </thead>\n",
       "  <tbody>\n",
       "    <tr>\n",
       "      <th>0</th>\n",
       "      <td>28TH ST W  Minneapolis</td>\n",
       "    </tr>\n",
       "    <tr>\n",
       "      <th>1</th>\n",
       "      <td>ADAMS ST NE WASHINGTON ST NE Minneapolis</td>\n",
       "    </tr>\n",
       "    <tr>\n",
       "      <th>2</th>\n",
       "      <td>24TH AVE N LOGAN AVE N Minneapolis</td>\n",
       "    </tr>\n",
       "    <tr>\n",
       "      <th>3</th>\n",
       "      <td>HARRIET AVE 36TH ST W Minneapolis</td>\n",
       "    </tr>\n",
       "    <tr>\n",
       "      <th>4</th>\n",
       "      <td>54TH ST E PORTLAND AVE Minneapolis</td>\n",
       "    </tr>\n",
       "  </tbody>\n",
       "</table>\n",
       "</div>"
      ],
      "text/plain": [
       "                                   Address1\n",
       "0                    28TH ST W  Minneapolis\n",
       "1  ADAMS ST NE WASHINGTON ST NE Minneapolis\n",
       "2        24TH AVE N LOGAN AVE N Minneapolis\n",
       "3         HARRIET AVE 36TH ST W Minneapolis\n",
       "4        54TH ST E PORTLAND AVE Minneapolis"
      ]
     },
     "execution_count": 2,
     "metadata": {},
     "output_type": "execute_result"
    }
   ],
   "source": [
    " # Import Scooter Address file as DataFrame\n",
    "scooter_pd = pd.read_csv(\"Downloads/Scooter_Address3.csv\")\n",
    "scooter_pd.head()"
   ]
  },
  {
   "cell_type": "code",
   "execution_count": 3,
   "metadata": {},
   "outputs": [
    {
     "name": "stdout",
     "output_type": "stream",
     "text": [
      "2588\n"
     ]
    }
   ],
   "source": [
    "address_unique = scooter_pd[\"Address1\"].nunique()\n",
    "print(address_unique)"
   ]
  },
  {
   "cell_type": "code",
   "execution_count": 4,
   "metadata": {},
   "outputs": [
    {
     "data": {
      "text/html": [
       "<div>\n",
       "<style scoped>\n",
       "    .dataframe tbody tr th:only-of-type {\n",
       "        vertical-align: middle;\n",
       "    }\n",
       "\n",
       "    .dataframe tbody tr th {\n",
       "        vertical-align: top;\n",
       "    }\n",
       "\n",
       "    .dataframe thead th {\n",
       "        text-align: right;\n",
       "    }\n",
       "</style>\n",
       "<table border=\"1\" class=\"dataframe\">\n",
       "  <thead>\n",
       "    <tr style=\"text-align: right;\">\n",
       "      <th></th>\n",
       "      <th>Address1</th>\n",
       "      <th>Lat</th>\n",
       "      <th>Lng</th>\n",
       "    </tr>\n",
       "  </thead>\n",
       "  <tbody>\n",
       "    <tr>\n",
       "      <th>0</th>\n",
       "      <td>28TH ST W  Minneapolis</td>\n",
       "      <td></td>\n",
       "      <td></td>\n",
       "    </tr>\n",
       "    <tr>\n",
       "      <th>1</th>\n",
       "      <td>ADAMS ST NE WASHINGTON ST NE Minneapolis</td>\n",
       "      <td></td>\n",
       "      <td></td>\n",
       "    </tr>\n",
       "    <tr>\n",
       "      <th>2</th>\n",
       "      <td>24TH AVE N LOGAN AVE N Minneapolis</td>\n",
       "      <td></td>\n",
       "      <td></td>\n",
       "    </tr>\n",
       "    <tr>\n",
       "      <th>3</th>\n",
       "      <td>HARRIET AVE 36TH ST W Minneapolis</td>\n",
       "      <td></td>\n",
       "      <td></td>\n",
       "    </tr>\n",
       "    <tr>\n",
       "      <th>4</th>\n",
       "      <td>54TH ST E PORTLAND AVE Minneapolis</td>\n",
       "      <td></td>\n",
       "      <td></td>\n",
       "    </tr>\n",
       "  </tbody>\n",
       "</table>\n",
       "</div>"
      ],
      "text/plain": [
       "                                   Address1 Lat Lng\n",
       "0                    28TH ST W  Minneapolis        \n",
       "1  ADAMS ST NE WASHINGTON ST NE Minneapolis        \n",
       "2        24TH AVE N LOGAN AVE N Minneapolis        \n",
       "3         HARRIET AVE 36TH ST W Minneapolis        \n",
       "4        54TH ST E PORTLAND AVE Minneapolis        "
      ]
     },
     "execution_count": 4,
     "metadata": {},
     "output_type": "execute_result"
    }
   ],
   "source": [
    "# Add columns for lat, lng\n",
    "# Note that we used \"\" to specify initial entry.\n",
    "scooter_pd[\"Lat\"] = \"\"\n",
    "scooter_pd[\"Lng\"] = \"\"\n",
    "\n",
    "scooter_pd.head()"
   ]
  },
  {
   "cell_type": "code",
   "execution_count": 5,
   "metadata": {},
   "outputs": [],
   "source": [
    " # create a params dict that will be updated with new address each iteration\n",
    "params = {\"key\": gkey}\n",
    "\n",
    "# Loop through the cities_pd and run a lat/long search for each city\n",
    "for index, row in scooter_pd.iterrows():\n",
    "    base_url = \"https://maps.googleapis.com/maps/api/geocode/json\"\n",
    "\n",
    "    address1 = row['Address1']\n",
    "\n",
    "    # update address key value\n",
    "    params['address'] = f\"{address1}\"\n",
    "\n",
    "    # make request\n",
    "    scooter_lat_lng = requests.get(base_url, params=params)\n",
    "    \n",
    "    # print the sddress_lat_lng url, avoid doing for public github repos in order to avoid exposing key\n",
    "    # print(scooter_lat_lng.url)\n",
    "    \n",
    "    # convert to json\n",
    "    scooter_lat_lng = scooter_lat_lng.json()\n",
    "\n",
    "    scooter_pd.loc[index, \"Lat\"] = scooter_lat_lng[\"results\"][0][\"geometry\"][\"location\"][\"lat\"]\n",
    "    scooter_pd.loc[index, \"Lng\"] = scooter_lat_lng[\"results\"][0][\"geometry\"][\"location\"][\"lng\"]"
   ]
  },
  {
   "cell_type": "code",
   "execution_count": 6,
   "metadata": {},
   "outputs": [
    {
     "data": {
      "text/html": [
       "<div>\n",
       "<style scoped>\n",
       "    .dataframe tbody tr th:only-of-type {\n",
       "        vertical-align: middle;\n",
       "    }\n",
       "\n",
       "    .dataframe tbody tr th {\n",
       "        vertical-align: top;\n",
       "    }\n",
       "\n",
       "    .dataframe thead th {\n",
       "        text-align: right;\n",
       "    }\n",
       "</style>\n",
       "<table border=\"1\" class=\"dataframe\">\n",
       "  <thead>\n",
       "    <tr style=\"text-align: right;\">\n",
       "      <th></th>\n",
       "      <th>Address1</th>\n",
       "      <th>Lat</th>\n",
       "      <th>Lng</th>\n",
       "    </tr>\n",
       "  </thead>\n",
       "  <tbody>\n",
       "    <tr>\n",
       "      <th>0</th>\n",
       "      <td>28TH ST W  Minneapolis</td>\n",
       "      <td>44.9519</td>\n",
       "      <td>-93.2901</td>\n",
       "    </tr>\n",
       "    <tr>\n",
       "      <th>1</th>\n",
       "      <td>ADAMS ST NE WASHINGTON ST NE Minneapolis</td>\n",
       "      <td>45.0064</td>\n",
       "      <td>-93.2572</td>\n",
       "    </tr>\n",
       "    <tr>\n",
       "      <th>2</th>\n",
       "      <td>24TH AVE N LOGAN AVE N Minneapolis</td>\n",
       "      <td>45.0042</td>\n",
       "      <td>-93.3034</td>\n",
       "    </tr>\n",
       "    <tr>\n",
       "      <th>3</th>\n",
       "      <td>HARRIET AVE 36TH ST W Minneapolis</td>\n",
       "      <td>44.9377</td>\n",
       "      <td>-93.2856</td>\n",
       "    </tr>\n",
       "    <tr>\n",
       "      <th>4</th>\n",
       "      <td>54TH ST E PORTLAND AVE Minneapolis</td>\n",
       "      <td>44.9052</td>\n",
       "      <td>-93.2673</td>\n",
       "    </tr>\n",
       "  </tbody>\n",
       "</table>\n",
       "</div>"
      ],
      "text/plain": [
       "                                   Address1      Lat      Lng\n",
       "0                    28TH ST W  Minneapolis  44.9519 -93.2901\n",
       "1  ADAMS ST NE WASHINGTON ST NE Minneapolis  45.0064 -93.2572\n",
       "2        24TH AVE N LOGAN AVE N Minneapolis  45.0042 -93.3034\n",
       "3         HARRIET AVE 36TH ST W Minneapolis  44.9377 -93.2856\n",
       "4        54TH ST E PORTLAND AVE Minneapolis  44.9052 -93.2673"
      ]
     },
     "execution_count": 6,
     "metadata": {},
     "output_type": "execute_result"
    }
   ],
   "source": [
    "# Save Data to csv\n",
    "scooter_pd.to_csv(\"Downloads/Scooter_Lat_Long_3.csv\")\n",
    "\n",
    "# Visualize to confirm airport data appears\n",
    "scooter_pd.head()"
   ]
  },
  {
   "cell_type": "code",
   "execution_count": null,
   "metadata": {},
   "outputs": [],
   "source": []
  }
 ],
 "metadata": {
  "kernelspec": {
   "display_name": "Python 3",
   "language": "python",
   "name": "python3"
  },
  "language_info": {
   "codemirror_mode": {
    "name": "ipython",
    "version": 3
   },
   "file_extension": ".py",
   "mimetype": "text/x-python",
   "name": "python",
   "nbconvert_exporter": "python",
   "pygments_lexer": "ipython3",
   "version": "3.7.3"
  }
 },
 "nbformat": 4,
 "nbformat_minor": 2
}
